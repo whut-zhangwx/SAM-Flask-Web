{
 "cells": [
  {
   "cell_type": "code",
   "execution_count": 75,
   "metadata": {},
   "outputs": [
    {
     "name": "stdout",
     "output_type": "stream",
     "text": [
      "response: <Response [200]>,\n",
      "response.status_code: 200,\n",
      "type(response): <class 'requests.models.Response'>,\n",
      "response.json(): {'success': True},\n",
      "response.request.headers['Content-Type']: multipart/form-data; boundary=320d20e7091430cb594f98614181b163\n"
     ]
    }
   ],
   "source": [
    "\"\"\"client.py\"\"\"\n",
    "import requests\n",
    "\n",
    "file = open(file=\"./image.jpg\", mode='rb')\n",
    "\n",
    "url = \"http://127.0.0.1:5000/receive\"\n",
    "# data = {\"name\": \"data\", \"content\": 123} # application/x-www-form-urlencoded\n",
    "# json = {\"name\": \"json\", \"content\": 456} # application/json\n",
    "# files = {\"file\": file}\n",
    "files = {\"file\": (\"image.jpg\", file, \"image/jpg\")}\n",
    "# response = requests.post(url=url, data=data, json=json, files=files, timeout=3)\n",
    "# response = requests.post(url=url, data=data, timeout=3)\n",
    "# response = requests.post(url=url, json=json, timeout=3)\n",
    "response = requests.post(url=url, files=files, timeout=3)\n",
    "file.close()\n",
    "print(f\"response: {response},\\n\"\n",
    "      f\"response.status_code: {response.status_code},\\n\"\n",
    "      f\"type(response): {type(response)},\\n\"\n",
    "      f\"response.json(): {response.json()},\\n\"\n",
    "      f\"response.request.headers['Content-Type']: {response.request.headers['Content-Type']}\")"
   ]
  }
 ],
 "metadata": {
  "kernelspec": {
   "display_name": "zwx-sam",
   "language": "python",
   "name": "python3"
  },
  "language_info": {
   "codemirror_mode": {
    "name": "ipython",
    "version": 3
   },
   "file_extension": ".py",
   "mimetype": "text/x-python",
   "name": "python",
   "nbconvert_exporter": "python",
   "pygments_lexer": "ipython3",
   "version": "3.10.15"
  }
 },
 "nbformat": 4,
 "nbformat_minor": 2
}
